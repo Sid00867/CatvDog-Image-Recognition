{
  "cells": [
    {
      "cell_type": "markdown",
      "metadata": {
        "id": "view-in-github",
        "colab_type": "text"
      },
      "source": [
        "<a href=\"https://colab.research.google.com/github/Sid00867/CatvDog-Image-Recognition/blob/main/Cat_%26_Dog_Image_Classification_(Colab).ipynb\" target=\"_parent\"><img src=\"https://colab.research.google.com/assets/colab-badge.svg\" alt=\"Open In Colab\"/></a>"
      ]
    },
    {
      "cell_type": "code",
      "source": [
        "from google.colab import drive\n",
        "drive.mount('/content/drive')"
      ],
      "metadata": {
        "colab": {
          "base_uri": "https://localhost:8080/"
        },
        "id": "LI3fCFS80gZt",
        "outputId": "39c343f8-6c95-4648-f3a5-15f0149378d4"
      },
      "execution_count": 4,
      "outputs": [
        {
          "output_type": "stream",
          "name": "stdout",
          "text": [
            "Mounted at /content/drive\n"
          ]
        }
      ]
    },
    {
      "cell_type": "code",
      "source": [
        "import torch\n",
        "import torch.nn as nn\n",
        "import torch.nn.functional as F\n",
        "from torchvision import transforms, datasets\n",
        "from torch.utils.data import DataLoader\n",
        "from tqdm import tqdm  # progress bar\n",
        "import os\n",
        "import zipfile\n",
        "\n",
        "# 'dataset.zip' file containing your images.\n",
        "if not os.path.exists('./training_set'):\n",
        "\n",
        "    zip_path = '/content/drive/MyDrive/dataset.zip'\n",
        "    if os.path.exists(zip_path):\n",
        "        print(\"Zip file found. Extracting...\")\n",
        "        with zipfile.ZipFile(zip_path, 'r') as zip_ref:\n",
        "            zip_ref.extractall('./') # Extract to the current directory\n",
        "        print(\"Extraction complete.\")\n",
        "    else:\n",
        "        print(\"ERROR: 'dataset.zip' not found.\")\n",
        "        print(\"Please upload your zip file containing 'training_set' and 'test_set' folders.\")\n",
        "\n",
        "train_dir = './training_set/training_set'\n",
        "test_dir = './test_set/test_set'\n",
        "\n",
        "\n",
        "# DEVICE CONFIGURATION (USE GPU IF AVAILABLE)\n",
        "\n",
        "device = torch.device(\"cuda\" if torch.cuda.is_available() else \"cpu\")\n",
        "print(f\"Using device: {device}\")\n",
        "\n",
        "# Define the image transformations\n",
        "transform = transforms.Compose([\n",
        "    transforms.Resize((128, 128)),\n",
        "    transforms.ToTensor(),\n",
        "    transforms.Normalize(mean=[0.5, 0.5, 0.5], std=[0.5, 0.5, 0.5])\n",
        "])\n",
        "\n",
        "# Create datasets with ImageFolder\n",
        "# It automatically finds classes from folder names (e.g., 'cats', 'dogs')\n",
        "try:\n",
        "    train_dataset = datasets.ImageFolder(root=train_dir, transform=transform)\n",
        "    test_dataset = datasets.ImageFolder(root=test_dir, transform=transform)\n",
        "\n",
        "    # Create DataLoaders\n",
        "    train_loader = DataLoader(train_dataset, batch_size=32, shuffle=True)\n",
        "    test_loader = DataLoader(test_dataset, batch_size=32, shuffle=False)\n",
        "\n",
        "    print(\"Datasets and DataLoaders created successfully.\")\n",
        "    print(f\"Training classes: {train_dataset.class_to_idx}\")\n",
        "\n",
        "except FileNotFoundError:\n",
        "    print(\"\\nERROR: Could not find the training or test directories.\")\n",
        "    print(f\"Looked for '{train_dir}' and '{test_dir}'.\")\n",
        "    print(\"Please ensure your zip file creates these folders when extracted.\")\n",
        "    # Set loaders to None so the script doesn't crash later\n",
        "    train_loader = None\n",
        "    test_loader = None\n",
        "\n",
        "class CatDogCNN(nn.Module):\n",
        "    def __init__(self):\n",
        "        super(CatDogCNN, self).__init__()\n",
        "        # Input: 3 x 128 x 128\n",
        "        self.conv1 = nn.Conv2d(3, 32, kernel_size=3, padding=1)      # -> 32 x 128 x 128\n",
        "        self.pool1 = nn.MaxPool2d(2, 2)                              # -> 32 x 64 x 64\n",
        "\n",
        "        self.conv2 = nn.Conv2d(32, 64, kernel_size=3, padding=1)     # -> 64 x 64 x 64\n",
        "        self.pool2 = nn.MaxPool2d(2, 2)                              # -> 64 x 32 x 32\n",
        "\n",
        "        self.conv3 = nn.Conv2d(64, 128, kernel_size=3, padding=1)    # -> 128 x 32 x 32\n",
        "        self.pool3 = nn.MaxPool2d(2, 2)                              # -> 128 x 16 x 16\n",
        "\n",
        "        self.conv4 = nn.Conv2d(128, 128, kernel_size=3, padding=1)   # -> 128 x 16 x 16\n",
        "        self.pool4 = nn.MaxPool2d(2, 2)                              # -> 128 x 8 x 8\n",
        "\n",
        "        self.flatten_dim = 128 * 8 * 8\n",
        "\n",
        "        self.fc1 = nn.Linear(self.flatten_dim, 512)\n",
        "        self.dropout = nn.Dropout(0.5)\n",
        "        self.fc2 = nn.Linear(512, 1)\n",
        "\n",
        "    def forward(self, x):\n",
        "        x = F.relu(self.conv1(x))\n",
        "        x = self.pool1(x)\n",
        "        x = F.relu(self.conv2(x))\n",
        "        x = self.pool2(x)\n",
        "        x = F.relu(self.conv3(x))\n",
        "        x = self.pool3(x)\n",
        "        x = F.relu(self.conv4(x))\n",
        "        x = self.pool4(x)\n",
        "        x = x.view(x.size(0), -1)  # Flatten\n",
        "        x = F.relu(self.fc1(x))\n",
        "        x = self.dropout(x)\n",
        "        x = torch.sigmoid(self.fc2(x))\n",
        "        return x\n",
        "\n",
        "\n",
        "if train_loader and test_loader:\n",
        "    # Instantiate the model and move it to the configured device (GPU/CPU)\n",
        "    model = CatDogCNN().to(device)\n",
        "\n",
        "    criterion = nn.BCELoss()  # Binary Cross Entropy for binary classification\n",
        "    optimizer = torch.optim.Adam(model.parameters(), lr=0.001)\n",
        "\n",
        "    num_epochs = 60\n",
        "\n",
        "    # --- TRAINING LOOP ---\n",
        "    for epoch in range(num_epochs):\n",
        "        model.train()\n",
        "        running_loss = 0.0\n",
        "\n",
        "        # Use tqdm for a progress bar\n",
        "        loop = tqdm(train_loader, desc=f\"Epoch {epoch+1}/{num_epochs}\")\n",
        "\n",
        "        for inputs, targets in loop:\n",
        "            # Move data to the same device as the model\n",
        "            inputs, targets = inputs.to(device), targets.to(device)\n",
        "\n",
        "            optimizer.zero_grad()\n",
        "\n",
        "            # Forward pass\n",
        "            outputs = model(inputs)\n",
        "\n",
        "            # Reshape targets to match output shape and type\n",
        "            targets = targets.float().unsqueeze(1)\n",
        "\n",
        "            # Calculate loss and perform backpropagation\n",
        "            loss = criterion(outputs, targets)\n",
        "            loss.backward()\n",
        "            optimizer.step()\n",
        "\n",
        "            running_loss += loss.item() * inputs.size(0)\n",
        "\n",
        "            # Update progress bar description\n",
        "            loop.set_postfix(loss=loss.item())\n",
        "\n",
        "        epoch_loss = running_loss / len(train_loader.dataset)\n",
        "        print(f\"Epoch {epoch+1}/{num_epochs} finished, Training Loss: {epoch_loss:.4f}\")\n",
        "\n",
        "    # --- TESTING LOOP ---\n",
        "    model.eval()\n",
        "    test_loss = 0.0\n",
        "    correct = 0\n",
        "    total = 0\n",
        "\n",
        "    print(\"\\nTraining Ended. Starting Testing...\")\n",
        "    with torch.no_grad():\n",
        "        for inputs, targets in test_loader:\n",
        "            # Move data to the device\n",
        "            inputs, targets = inputs.to(device), targets.to(device)\n",
        "\n",
        "            outputs = model(inputs)\n",
        "\n",
        "            # Reshape targets\n",
        "            targets = targets.float().unsqueeze(1)\n",
        "\n",
        "            loss = criterion(outputs, targets)\n",
        "            test_loss += loss.item() * inputs.size(0)\n",
        "\n",
        "            # Calculate accuracy\n",
        "            preds = (outputs >= 0.5).float()\n",
        "            correct += (preds == targets).sum().item()\n",
        "            total += targets.size(0)\n",
        "\n",
        "    avg_test_loss = test_loss / total\n",
        "    accuracy = correct / total\n",
        "    print(f\"\\nTest Loss: {avg_test_loss:.4f}, Test Accuracy: {accuracy:.4f} ({correct}/{total})\")\n",
        "\n",
        "\n",
        "save_prompt = input(\"Do you want to save the trained model weights to 'cat_dog_model_weights.pth'? (yes/no): \")\n",
        "\n",
        "if save_prompt.lower() in ['yes', 'y']:\n",
        "    save_path = 'cat_dog_model_weights.pth'\n",
        "    torch.save(model.state_dict(), save_path)\n",
        "    print(f\"\\nModel weights successfully saved to {save_path}\")\n",
        "else:\n",
        "    print(\"\\nModel weights were not saved.\")"
      ],
      "outputs": [
        {
          "output_type": "stream",
          "name": "stdout",
          "text": [
            "Using device: cuda\n",
            "Datasets and DataLoaders created successfully.\n",
            "Training classes: {'cats': 0, 'dogs': 1}\n"
          ]
        },
        {
          "output_type": "stream",
          "name": "stderr",
          "text": [
            "Epoch 1/60: 100%|██████████| 251/251 [00:30<00:00,  8.35it/s, loss=0.749]\n"
          ]
        },
        {
          "output_type": "stream",
          "name": "stdout",
          "text": [
            "Epoch 1/60 finished, Training Loss: 0.6827\n"
          ]
        },
        {
          "output_type": "stream",
          "name": "stderr",
          "text": [
            "Epoch 2/60: 100%|██████████| 251/251 [00:28<00:00,  8.72it/s, loss=0.719]\n"
          ]
        },
        {
          "output_type": "stream",
          "name": "stdout",
          "text": [
            "Epoch 2/60 finished, Training Loss: 0.5993\n"
          ]
        },
        {
          "output_type": "stream",
          "name": "stderr",
          "text": [
            "Epoch 3/60: 100%|██████████| 251/251 [00:28<00:00,  8.74it/s, loss=0.723]\n"
          ]
        },
        {
          "output_type": "stream",
          "name": "stdout",
          "text": [
            "Epoch 3/60 finished, Training Loss: 0.5362\n"
          ]
        },
        {
          "output_type": "stream",
          "name": "stderr",
          "text": [
            "Epoch 4/60: 100%|██████████| 251/251 [00:28<00:00,  8.78it/s, loss=0.456]\n"
          ]
        },
        {
          "output_type": "stream",
          "name": "stdout",
          "text": [
            "Epoch 4/60 finished, Training Loss: 0.4971\n"
          ]
        },
        {
          "output_type": "stream",
          "name": "stderr",
          "text": [
            "Epoch 5/60: 100%|██████████| 251/251 [00:28<00:00,  8.75it/s, loss=0.734]\n"
          ]
        },
        {
          "output_type": "stream",
          "name": "stdout",
          "text": [
            "Epoch 5/60 finished, Training Loss: 0.4361\n"
          ]
        },
        {
          "output_type": "stream",
          "name": "stderr",
          "text": [
            "Epoch 6/60: 100%|██████████| 251/251 [00:28<00:00,  8.84it/s, loss=0.18]\n"
          ]
        },
        {
          "output_type": "stream",
          "name": "stdout",
          "text": [
            "Epoch 6/60 finished, Training Loss: 0.3859\n"
          ]
        },
        {
          "output_type": "stream",
          "name": "stderr",
          "text": [
            "Epoch 7/60: 100%|██████████| 251/251 [00:29<00:00,  8.65it/s, loss=0.283]\n"
          ]
        },
        {
          "output_type": "stream",
          "name": "stdout",
          "text": [
            "Epoch 7/60 finished, Training Loss: 0.3269\n"
          ]
        },
        {
          "output_type": "stream",
          "name": "stderr",
          "text": [
            "Epoch 8/60: 100%|██████████| 251/251 [00:28<00:00,  8.77it/s, loss=0.579]\n"
          ]
        },
        {
          "output_type": "stream",
          "name": "stdout",
          "text": [
            "Epoch 8/60 finished, Training Loss: 0.2723\n"
          ]
        },
        {
          "output_type": "stream",
          "name": "stderr",
          "text": [
            "Epoch 9/60: 100%|██████████| 251/251 [00:28<00:00,  8.85it/s, loss=0.0861]\n"
          ]
        },
        {
          "output_type": "stream",
          "name": "stdout",
          "text": [
            "Epoch 9/60 finished, Training Loss: 0.2323\n"
          ]
        },
        {
          "output_type": "stream",
          "name": "stderr",
          "text": [
            "Epoch 10/60: 100%|██████████| 251/251 [00:28<00:00,  8.84it/s, loss=0.0177]\n"
          ]
        },
        {
          "output_type": "stream",
          "name": "stdout",
          "text": [
            "Epoch 10/60 finished, Training Loss: 0.1751\n"
          ]
        },
        {
          "output_type": "stream",
          "name": "stderr",
          "text": [
            "Epoch 11/60: 100%|██████████| 251/251 [00:28<00:00,  8.81it/s, loss=0.267]\n"
          ]
        },
        {
          "output_type": "stream",
          "name": "stdout",
          "text": [
            "Epoch 11/60 finished, Training Loss: 0.1189\n"
          ]
        },
        {
          "output_type": "stream",
          "name": "stderr",
          "text": [
            "Epoch 12/60: 100%|██████████| 251/251 [00:28<00:00,  8.87it/s, loss=0.0788]\n"
          ]
        },
        {
          "output_type": "stream",
          "name": "stdout",
          "text": [
            "Epoch 12/60 finished, Training Loss: 0.0965\n"
          ]
        },
        {
          "output_type": "stream",
          "name": "stderr",
          "text": [
            "Epoch 13/60: 100%|██████████| 251/251 [00:28<00:00,  8.89it/s, loss=0.0026]\n"
          ]
        },
        {
          "output_type": "stream",
          "name": "stdout",
          "text": [
            "Epoch 13/60 finished, Training Loss: 0.0581\n"
          ]
        },
        {
          "output_type": "stream",
          "name": "stderr",
          "text": [
            "Epoch 14/60: 100%|██████████| 251/251 [00:28<00:00,  8.86it/s, loss=0.175]\n"
          ]
        },
        {
          "output_type": "stream",
          "name": "stdout",
          "text": [
            "Epoch 14/60 finished, Training Loss: 0.0708\n"
          ]
        },
        {
          "output_type": "stream",
          "name": "stderr",
          "text": [
            "Epoch 15/60: 100%|██████████| 251/251 [00:28<00:00,  8.67it/s, loss=0.00466]\n"
          ]
        },
        {
          "output_type": "stream",
          "name": "stdout",
          "text": [
            "Epoch 15/60 finished, Training Loss: 0.0453\n"
          ]
        },
        {
          "output_type": "stream",
          "name": "stderr",
          "text": [
            "Epoch 16/60: 100%|██████████| 251/251 [00:28<00:00,  8.67it/s, loss=0.103]\n"
          ]
        },
        {
          "output_type": "stream",
          "name": "stdout",
          "text": [
            "Epoch 16/60 finished, Training Loss: 0.0345\n"
          ]
        },
        {
          "output_type": "stream",
          "name": "stderr",
          "text": [
            "Epoch 17/60: 100%|██████████| 251/251 [00:28<00:00,  8.80it/s, loss=0.0018]\n"
          ]
        },
        {
          "output_type": "stream",
          "name": "stdout",
          "text": [
            "Epoch 17/60 finished, Training Loss: 0.0509\n"
          ]
        },
        {
          "output_type": "stream",
          "name": "stderr",
          "text": [
            "Epoch 18/60: 100%|██████████| 251/251 [00:28<00:00,  8.84it/s, loss=0.001]\n"
          ]
        },
        {
          "output_type": "stream",
          "name": "stdout",
          "text": [
            "Epoch 18/60 finished, Training Loss: 0.0236\n"
          ]
        },
        {
          "output_type": "stream",
          "name": "stderr",
          "text": [
            "Epoch 19/60: 100%|██████████| 251/251 [00:28<00:00,  8.78it/s, loss=0.00546]\n"
          ]
        },
        {
          "output_type": "stream",
          "name": "stdout",
          "text": [
            "Epoch 19/60 finished, Training Loss: 0.0298\n"
          ]
        },
        {
          "output_type": "stream",
          "name": "stderr",
          "text": [
            "Epoch 20/60: 100%|██████████| 251/251 [00:28<00:00,  8.87it/s, loss=5.13e-5]\n"
          ]
        },
        {
          "output_type": "stream",
          "name": "stdout",
          "text": [
            "Epoch 20/60 finished, Training Loss: 0.0421\n"
          ]
        },
        {
          "output_type": "stream",
          "name": "stderr",
          "text": [
            "Epoch 21/60: 100%|██████████| 251/251 [00:28<00:00,  8.81it/s, loss=0.00224]\n"
          ]
        },
        {
          "output_type": "stream",
          "name": "stdout",
          "text": [
            "Epoch 21/60 finished, Training Loss: 0.0326\n"
          ]
        },
        {
          "output_type": "stream",
          "name": "stderr",
          "text": [
            "Epoch 22/60: 100%|██████████| 251/251 [00:28<00:00,  8.86it/s, loss=0.0547]\n"
          ]
        },
        {
          "output_type": "stream",
          "name": "stdout",
          "text": [
            "Epoch 22/60 finished, Training Loss: 0.0263\n"
          ]
        },
        {
          "output_type": "stream",
          "name": "stderr",
          "text": [
            "Epoch 23/60: 100%|██████████| 251/251 [00:28<00:00,  8.75it/s, loss=1.75e-11]\n"
          ]
        },
        {
          "output_type": "stream",
          "name": "stdout",
          "text": [
            "Epoch 23/60 finished, Training Loss: 0.0261\n"
          ]
        },
        {
          "output_type": "stream",
          "name": "stderr",
          "text": [
            "Epoch 24/60: 100%|██████████| 251/251 [00:29<00:00,  8.65it/s, loss=0.00687]\n"
          ]
        },
        {
          "output_type": "stream",
          "name": "stdout",
          "text": [
            "Epoch 24/60 finished, Training Loss: 0.0378\n"
          ]
        },
        {
          "output_type": "stream",
          "name": "stderr",
          "text": [
            "Epoch 25/60: 100%|██████████| 251/251 [00:28<00:00,  8.84it/s, loss=4.64e-6]\n"
          ]
        },
        {
          "output_type": "stream",
          "name": "stdout",
          "text": [
            "Epoch 25/60 finished, Training Loss: 0.0208\n"
          ]
        },
        {
          "output_type": "stream",
          "name": "stderr",
          "text": [
            "Epoch 26/60: 100%|██████████| 251/251 [00:28<00:00,  8.86it/s, loss=0.000286]\n"
          ]
        },
        {
          "output_type": "stream",
          "name": "stdout",
          "text": [
            "Epoch 26/60 finished, Training Loss: 0.0282\n"
          ]
        },
        {
          "output_type": "stream",
          "name": "stderr",
          "text": [
            "Epoch 27/60: 100%|██████████| 251/251 [00:28<00:00,  8.84it/s, loss=0.000241]\n"
          ]
        },
        {
          "output_type": "stream",
          "name": "stdout",
          "text": [
            "Epoch 27/60 finished, Training Loss: 0.0166\n"
          ]
        },
        {
          "output_type": "stream",
          "name": "stderr",
          "text": [
            "Epoch 28/60: 100%|██████████| 251/251 [00:28<00:00,  8.83it/s, loss=2.04e-5]\n"
          ]
        },
        {
          "output_type": "stream",
          "name": "stdout",
          "text": [
            "Epoch 28/60 finished, Training Loss: 0.0235\n"
          ]
        },
        {
          "output_type": "stream",
          "name": "stderr",
          "text": [
            "Epoch 29/60: 100%|██████████| 251/251 [00:28<00:00,  8.88it/s, loss=0.271]\n"
          ]
        },
        {
          "output_type": "stream",
          "name": "stdout",
          "text": [
            "Epoch 29/60 finished, Training Loss: 0.0319\n"
          ]
        },
        {
          "output_type": "stream",
          "name": "stderr",
          "text": [
            "Epoch 30/60: 100%|██████████| 251/251 [00:28<00:00,  8.89it/s, loss=2.98e-5]\n"
          ]
        },
        {
          "output_type": "stream",
          "name": "stdout",
          "text": [
            "Epoch 30/60 finished, Training Loss: 0.0365\n"
          ]
        },
        {
          "output_type": "stream",
          "name": "stderr",
          "text": [
            "Epoch 31/60: 100%|██████████| 251/251 [00:28<00:00,  8.82it/s, loss=0.000248]\n"
          ]
        },
        {
          "output_type": "stream",
          "name": "stdout",
          "text": [
            "Epoch 31/60 finished, Training Loss: 0.0188\n"
          ]
        },
        {
          "output_type": "stream",
          "name": "stderr",
          "text": [
            "Epoch 32/60: 100%|██████████| 251/251 [00:28<00:00,  8.79it/s, loss=6.17e-9]\n"
          ]
        },
        {
          "output_type": "stream",
          "name": "stdout",
          "text": [
            "Epoch 32/60 finished, Training Loss: 0.0316\n"
          ]
        },
        {
          "output_type": "stream",
          "name": "stderr",
          "text": [
            "Epoch 33/60: 100%|██████████| 251/251 [00:28<00:00,  8.80it/s, loss=9.16e-5]\n"
          ]
        },
        {
          "output_type": "stream",
          "name": "stdout",
          "text": [
            "Epoch 33/60 finished, Training Loss: 0.0206\n"
          ]
        },
        {
          "output_type": "stream",
          "name": "stderr",
          "text": [
            "Epoch 34/60: 100%|██████████| 251/251 [00:28<00:00,  8.91it/s, loss=6.78e-10]\n"
          ]
        },
        {
          "output_type": "stream",
          "name": "stdout",
          "text": [
            "Epoch 34/60 finished, Training Loss: 0.0207\n"
          ]
        },
        {
          "output_type": "stream",
          "name": "stderr",
          "text": [
            "Epoch 35/60: 100%|██████████| 251/251 [00:28<00:00,  8.94it/s, loss=0.0539]\n"
          ]
        },
        {
          "output_type": "stream",
          "name": "stdout",
          "text": [
            "Epoch 35/60 finished, Training Loss: 0.0199\n"
          ]
        },
        {
          "output_type": "stream",
          "name": "stderr",
          "text": [
            "Epoch 36/60: 100%|██████████| 251/251 [00:28<00:00,  8.87it/s, loss=0.00042]\n"
          ]
        },
        {
          "output_type": "stream",
          "name": "stdout",
          "text": [
            "Epoch 36/60 finished, Training Loss: 0.0307\n"
          ]
        },
        {
          "output_type": "stream",
          "name": "stderr",
          "text": [
            "Epoch 37/60: 100%|██████████| 251/251 [00:28<00:00,  8.81it/s, loss=5.41e-7]\n"
          ]
        },
        {
          "output_type": "stream",
          "name": "stdout",
          "text": [
            "Epoch 37/60 finished, Training Loss: 0.0125\n"
          ]
        },
        {
          "output_type": "stream",
          "name": "stderr",
          "text": [
            "Epoch 38/60: 100%|██████████| 251/251 [00:28<00:00,  8.75it/s, loss=7.16e-7]\n"
          ]
        },
        {
          "output_type": "stream",
          "name": "stdout",
          "text": [
            "Epoch 38/60 finished, Training Loss: 0.0150\n"
          ]
        },
        {
          "output_type": "stream",
          "name": "stderr",
          "text": [
            "Epoch 39/60: 100%|██████████| 251/251 [00:28<00:00,  8.72it/s, loss=0.0182]\n"
          ]
        },
        {
          "output_type": "stream",
          "name": "stdout",
          "text": [
            "Epoch 39/60 finished, Training Loss: 0.0426\n"
          ]
        },
        {
          "output_type": "stream",
          "name": "stderr",
          "text": [
            "Epoch 40/60: 100%|██████████| 251/251 [00:28<00:00,  8.70it/s, loss=0.00353]\n"
          ]
        },
        {
          "output_type": "stream",
          "name": "stdout",
          "text": [
            "Epoch 40/60 finished, Training Loss: 0.0149\n"
          ]
        },
        {
          "output_type": "stream",
          "name": "stderr",
          "text": [
            "Epoch 41/60: 100%|██████████| 251/251 [00:28<00:00,  8.76it/s, loss=1.33e-5]\n"
          ]
        },
        {
          "output_type": "stream",
          "name": "stdout",
          "text": [
            "Epoch 41/60 finished, Training Loss: 0.0077\n"
          ]
        },
        {
          "output_type": "stream",
          "name": "stderr",
          "text": [
            "Epoch 42/60: 100%|██████████| 251/251 [00:28<00:00,  8.90it/s, loss=0.000333]\n"
          ]
        },
        {
          "output_type": "stream",
          "name": "stdout",
          "text": [
            "Epoch 42/60 finished, Training Loss: 0.0181\n"
          ]
        },
        {
          "output_type": "stream",
          "name": "stderr",
          "text": [
            "Epoch 43/60: 100%|██████████| 251/251 [00:28<00:00,  8.89it/s, loss=0.00064]\n"
          ]
        },
        {
          "output_type": "stream",
          "name": "stdout",
          "text": [
            "Epoch 43/60 finished, Training Loss: 0.0136\n"
          ]
        },
        {
          "output_type": "stream",
          "name": "stderr",
          "text": [
            "Epoch 44/60: 100%|██████████| 251/251 [00:28<00:00,  8.87it/s, loss=0.00275]\n"
          ]
        },
        {
          "output_type": "stream",
          "name": "stdout",
          "text": [
            "Epoch 44/60 finished, Training Loss: 0.0364\n"
          ]
        },
        {
          "output_type": "stream",
          "name": "stderr",
          "text": [
            "Epoch 45/60: 100%|██████████| 251/251 [00:28<00:00,  8.80it/s, loss=0.000755]\n"
          ]
        },
        {
          "output_type": "stream",
          "name": "stdout",
          "text": [
            "Epoch 45/60 finished, Training Loss: 0.0328\n"
          ]
        },
        {
          "output_type": "stream",
          "name": "stderr",
          "text": [
            "Epoch 46/60: 100%|██████████| 251/251 [00:28<00:00,  8.82it/s, loss=7.39e-7]\n"
          ]
        },
        {
          "output_type": "stream",
          "name": "stdout",
          "text": [
            "Epoch 46/60 finished, Training Loss: 0.0069\n"
          ]
        },
        {
          "output_type": "stream",
          "name": "stderr",
          "text": [
            "Epoch 47/60: 100%|██████████| 251/251 [00:28<00:00,  8.77it/s, loss=2.24e-5]\n"
          ]
        },
        {
          "output_type": "stream",
          "name": "stdout",
          "text": [
            "Epoch 47/60 finished, Training Loss: 0.0071\n"
          ]
        },
        {
          "output_type": "stream",
          "name": "stderr",
          "text": [
            "Epoch 48/60: 100%|██████████| 251/251 [00:28<00:00,  8.68it/s, loss=0.00132]\n"
          ]
        },
        {
          "output_type": "stream",
          "name": "stdout",
          "text": [
            "Epoch 48/60 finished, Training Loss: 0.0289\n"
          ]
        },
        {
          "output_type": "stream",
          "name": "stderr",
          "text": [
            "Epoch 49/60: 100%|██████████| 251/251 [00:29<00:00,  8.45it/s, loss=4.49e-5]\n"
          ]
        },
        {
          "output_type": "stream",
          "name": "stdout",
          "text": [
            "Epoch 49/60 finished, Training Loss: 0.0181\n"
          ]
        },
        {
          "output_type": "stream",
          "name": "stderr",
          "text": [
            "Epoch 50/60: 100%|██████████| 251/251 [00:28<00:00,  8.72it/s, loss=2.8e-6]\n"
          ]
        },
        {
          "output_type": "stream",
          "name": "stdout",
          "text": [
            "Epoch 50/60 finished, Training Loss: 0.0126\n"
          ]
        },
        {
          "output_type": "stream",
          "name": "stderr",
          "text": [
            "Epoch 51/60: 100%|██████████| 251/251 [00:28<00:00,  8.73it/s, loss=5.02e-12]\n"
          ]
        },
        {
          "output_type": "stream",
          "name": "stdout",
          "text": [
            "Epoch 51/60 finished, Training Loss: 0.0102\n"
          ]
        },
        {
          "output_type": "stream",
          "name": "stderr",
          "text": [
            "Epoch 52/60: 100%|██████████| 251/251 [00:28<00:00,  8.73it/s, loss=9.08e-6]\n"
          ]
        },
        {
          "output_type": "stream",
          "name": "stdout",
          "text": [
            "Epoch 52/60 finished, Training Loss: 0.0130\n"
          ]
        },
        {
          "output_type": "stream",
          "name": "stderr",
          "text": [
            "Epoch 53/60: 100%|██████████| 251/251 [00:28<00:00,  8.70it/s, loss=0.00214]\n"
          ]
        },
        {
          "output_type": "stream",
          "name": "stdout",
          "text": [
            "Epoch 53/60 finished, Training Loss: 0.0239\n"
          ]
        },
        {
          "output_type": "stream",
          "name": "stderr",
          "text": [
            "Epoch 54/60: 100%|██████████| 251/251 [00:28<00:00,  8.70it/s, loss=8.15e-8]\n"
          ]
        },
        {
          "output_type": "stream",
          "name": "stdout",
          "text": [
            "Epoch 54/60 finished, Training Loss: 0.0258\n"
          ]
        },
        {
          "output_type": "stream",
          "name": "stderr",
          "text": [
            "Epoch 55/60: 100%|██████████| 251/251 [00:29<00:00,  8.59it/s, loss=0.184]\n"
          ]
        },
        {
          "output_type": "stream",
          "name": "stdout",
          "text": [
            "Epoch 55/60 finished, Training Loss: 0.0149\n"
          ]
        },
        {
          "output_type": "stream",
          "name": "stderr",
          "text": [
            "Epoch 56/60: 100%|██████████| 251/251 [00:29<00:00,  8.51it/s, loss=0.000732]\n"
          ]
        },
        {
          "output_type": "stream",
          "name": "stdout",
          "text": [
            "Epoch 56/60 finished, Training Loss: 0.0289\n"
          ]
        },
        {
          "output_type": "stream",
          "name": "stderr",
          "text": [
            "Epoch 57/60: 100%|██████████| 251/251 [00:28<00:00,  8.67it/s, loss=0.000776]\n"
          ]
        },
        {
          "output_type": "stream",
          "name": "stdout",
          "text": [
            "Epoch 57/60 finished, Training Loss: 0.0139\n"
          ]
        },
        {
          "output_type": "stream",
          "name": "stderr",
          "text": [
            "Epoch 58/60: 100%|██████████| 251/251 [00:28<00:00,  8.72it/s, loss=1.47e-5]\n"
          ]
        },
        {
          "output_type": "stream",
          "name": "stdout",
          "text": [
            "Epoch 58/60 finished, Training Loss: 0.0155\n"
          ]
        },
        {
          "output_type": "stream",
          "name": "stderr",
          "text": [
            "Epoch 59/60: 100%|██████████| 251/251 [00:28<00:00,  8.69it/s, loss=2.39e-7]\n"
          ]
        },
        {
          "output_type": "stream",
          "name": "stdout",
          "text": [
            "Epoch 59/60 finished, Training Loss: 0.0300\n"
          ]
        },
        {
          "output_type": "stream",
          "name": "stderr",
          "text": [
            "Epoch 60/60: 100%|██████████| 251/251 [00:28<00:00,  8.72it/s, loss=0.000457]\n"
          ]
        },
        {
          "output_type": "stream",
          "name": "stdout",
          "text": [
            "Epoch 60/60 finished, Training Loss: 0.0074\n",
            "\n",
            "Training Ended. Starting Testing...\n",
            "\n",
            "Test Loss: 1.8102, Test Accuracy: 0.8329 (1685/2023)\n",
            "Do you want to save the trained model weights to 'cat_dog_model_weights.pth'? (yes/no): yes\n",
            "\n",
            "Model weights successfully saved to cat_dog_model_weights.pth\n"
          ]
        }
      ],
      "execution_count": 7,
      "metadata": {
        "colab": {
          "base_uri": "https://localhost:8080/"
        },
        "id": "XkDoG7wlofyA",
        "outputId": "e345cfdb-03f6-4f6f-c993-edc6f6c3cd8e"
      }
    }
  ],
  "metadata": {
    "colab": {
      "provenance": [],
      "gpuType": "T4",
      "include_colab_link": true
    },
    "kernelspec": {
      "display_name": "Python 3",
      "name": "python3"
    },
    "accelerator": "GPU"
  },
  "nbformat": 4,
  "nbformat_minor": 0
}